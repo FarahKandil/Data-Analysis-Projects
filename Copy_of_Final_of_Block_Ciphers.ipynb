{
  "cells": [
    {
      "cell_type": "markdown",
      "metadata": {
        "id": "view-in-github",
        "colab_type": "text"
      },
      "source": [
        "<a href=\"https://colab.research.google.com/github/FarahKandil/Data-Analysis/blob/main/Copy_of_Final_of_Block_Ciphers.ipynb\" target=\"_parent\"><img src=\"https://colab.research.google.com/assets/colab-badge.svg\" alt=\"Open In Colab\"/></a>"
      ]
    },
    {
      "cell_type": "markdown",
      "id": "strategic-sponsorship",
      "metadata": {
        "id": "strategic-sponsorship"
      },
      "source": [
        "# Table of contents:\n",
        "\n",
        "* [Introduction to block ciphers](#intro-block)\n",
        "* [Padding a message](#message-padding)\n",
        "* [The Advanced Encryption Standard (AES)](#AES)\n",
        "* [Modes of operation of block ciphers](#modes)\n",
        "* [Size of the output ciphertex on AES](#size)\n",
        "* [Bonus: Fernet cipher](#fernet)\n",
        "    \n",
        "Author: [Sebastià Agramunt Puig](https://github.com/sebastiaagramunt) for [OpenMined](https://www.openmined.org/) Privacy ML Series course.\n",
        "\n"
      ]
    },
    {
      "cell_type": "code",
      "source": [],
      "metadata": {
        "id": "BPzbu47TvSiH"
      },
      "id": "BPzbu47TvSiH",
      "execution_count": null,
      "outputs": []
    },
    {
      "cell_type": "markdown",
      "id": "informal-yesterday",
      "metadata": {
        "id": "informal-yesterday"
      },
      "source": [
        "## Block Ciphers <a class=\"anchor\" id=\"intro-block\"></a>\n",
        "\n",
        "Block ciphers as opposed to stream ciphers take a block of the plaintext (a specific amount of bytes) and encrypts it into a block with the same size. In this section we will use the Advanced Encryption Standard (AES) to understand block ciphers. In the next schema it is shown how an original message of arbitrary $N$ bytes is converted into a ciphertext having blocks of $K$ bytes. The ciphertext size is always a multiple of $K$ bytes."
      ]
    },
    {
      "cell_type": "code",
      "source": [],
      "metadata": {
        "id": "8G5gChysvTab"
      },
      "id": "8G5gChysvTab",
      "execution_count": null,
      "outputs": []
    },
    {
      "cell_type": "markdown",
      "id": "destroyed-croatia",
      "metadata": {
        "id": "destroyed-croatia"
      },
      "source": [
        "<img src=\"img/block_cipher.png\" style=\"width:1100px\"/>"
      ]
    },
    {
      "cell_type": "markdown",
      "id": "constant-bulletin",
      "metadata": {
        "id": "constant-bulletin"
      },
      "source": [
        "## Padding a message <a class=\"anchor\" id=\"message-padding\"></a>\n",
        "\n",
        "Most of the times the lenght of the message is not a multiple of the block size so we need to \"pad\" the message to have the required length. A common padding function is [PKCS7](https://en.wikipedia.org/wiki/Padding_(cryptography)). Basically what PKCS7 does is appendinng a list of bytes with the same value corresponding to the number of bytes needed to complete the block.\n",
        "\n",
        "\n"
      ]
    },
    {
      "cell_type": "markdown",
      "id": "organized-moment",
      "metadata": {
        "id": "organized-moment"
      },
      "source": [
        "## Encrypting using AES (Advanced Encryption Standard) <a class=\"anchor\" id=\"AES\"></a>\n",
        "\n",
        "AES is a block cipher that was established as a standard by NIST in 2001 (after a public call to improve/substitute DES encryption algorithm in 1997). AES is a subset of the Rijndael block cipher developed by Vincent Rijmen and Joan Daemen submitted to NIST during the [AES selection process](https://en.wikipedia.org/wiki/Advanced_Encryption_Standard_process).\n",
        "\n",
        "\n",
        "We are not going to go into the details of te exact implementation but the readers are referred to the book of [Katz and Lindell](http://www.cs.umd.edu/~jkatz/imc.html) Chapter 6 section 2. Also Mike Pound explains AES in this [video](https://www.youtube.com/watch?v=O4xNJsjtN6E&t=524s&ab_channel=Computerphile), check it out!"
      ]
    },
    {
      "cell_type": "code",
      "source": [
        "from typing import List, Union, Tuple, Any, Generator\n",
        "from itertools import chain\n",
        "import warnings\n",
        "import os\n",
        "\n",
        "ECB = 1\n",
        "CBC = 2"
      ],
      "metadata": {
        "id": "BANRccDDWc_O"
      },
      "id": "BANRccDDWc_O",
      "execution_count": null,
      "outputs": []
    },
    {
      "cell_type": "code",
      "source": [
        "S_box = [\n",
        "    [0x63, 0x7c, 0x77, 0x7b, 0xf2, 0x6b, 0x6f, 0xc5, 0x30, 0x01, 0x67, 0x2b, 0xfe, 0xd7, 0xab, 0x76],\n",
        "    [0xca, 0x82, 0xc9, 0x7d, 0xfa, 0x59, 0x47, 0xf0, 0xad, 0xd4, 0xa2, 0xaf, 0x9c, 0xa4, 0x72, 0xc0],\n",
        "    [0xb7, 0xfd, 0x93, 0x26, 0x36, 0x3f, 0xf7, 0xcc, 0x34, 0xa5, 0xe5, 0xf1, 0x71, 0xd8, 0x31, 0x15],\n",
        "    [0x04, 0xc7, 0x23, 0xc3, 0x18, 0x96, 0x05, 0x9a, 0x07, 0x12, 0x80, 0xe2, 0xeb, 0x27, 0xb2, 0x75],\n",
        "    [0x09, 0x83, 0x2c, 0x1a, 0x1b, 0x6e, 0x5a, 0xa0, 0x52, 0x3b, 0xd6, 0xb3, 0x29, 0xe3, 0x2f, 0x84],\n",
        "    [0x53, 0xd1, 0x00, 0xed, 0x20, 0xfc, 0xb1, 0x5b, 0x6a, 0xcb, 0xbe, 0x39, 0x4a, 0x4c, 0x58, 0xcf],\n",
        "    [0xd0, 0xef, 0xaa, 0xfb, 0x43, 0x4d, 0x33, 0x85, 0x45, 0xf9, 0x02, 0x7f, 0x50, 0x3c, 0x9f, 0xa8],\n",
        "    [0x51, 0xa3, 0x40, 0x8f, 0x92, 0x9d, 0x38, 0xf5, 0xbc, 0xb6, 0xda, 0x21, 0x10, 0xff, 0xf3, 0xd2],\n",
        "    [0xcd, 0x0c, 0x13, 0xec, 0x5f, 0x97, 0x44, 0x17, 0xc4, 0xa7, 0x7e, 0x3d, 0x64, 0x5d, 0x19, 0x73],\n",
        "    [0x60, 0x81, 0x4f, 0xdc, 0x22, 0x2a, 0x90, 0x88, 0x46, 0xee, 0xb8, 0x14, 0xde, 0x5e, 0x0b, 0xdb],\n",
        "    [0xe0, 0x32, 0x3a, 0x0a, 0x49, 0x06, 0x24, 0x5c, 0xc2, 0xd3, 0xac, 0x62, 0x91, 0x95, 0xe4, 0x79],\n",
        "    [0xe7, 0xc8, 0x37, 0x6d, 0x8d, 0xd5, 0x4e, 0xa9, 0x6c, 0x56, 0xf4, 0xea, 0x65, 0x7a, 0xae, 0x08],\n",
        "    [0xba, 0x78, 0x25, 0x2e, 0x1c, 0xa6, 0xb4, 0xc6, 0xe8, 0xdd, 0x74, 0x1f, 0x4b, 0xbd, 0x8b, 0x8a],\n",
        "    [0x70, 0x3e, 0xb5, 0x66, 0x48, 0x03, 0xf6, 0x0e, 0x61, 0x35, 0x57, 0xb9, 0x86, 0xc1, 0x1d, 0x9e],\n",
        "    [0xe1, 0xf8, 0x98, 0x11, 0x69, 0xd9, 0x8e, 0x94, 0x9b, 0x1e, 0x87, 0xe9, 0xce, 0x55, 0x28, 0xdf],\n",
        "    [0x8c, 0xa1, 0x89, 0x0d, 0xbf, 0xe6, 0x42, 0x68, 0x41, 0x99, 0x2d, 0x0f, 0xb0, 0x54, 0xbb, 0x16]\n",
        "]\n",
        "Rcon = (\n",
        "    0x01, 0x02, 0x04, 0x08, 0x10, 0x20,\n",
        "    0x40, 0x80, 0x1b, 0x36, 0x6c, 0xd8,\n",
        "    0xab, 0x4d, 0x9a, 0x2f, 0x5e, 0xbc,\n",
        "    0x63, 0xc6, 0x97, 0x35, 0x6a, 0xd4,\n",
        "    0xb3, 0x7d, 0xfa, 0xef, 0xc5, 0x91,\n",
        ")"
      ],
      "metadata": {
        "id": "N-lZMoNaWqjE"
      },
      "id": "N-lZMoNaWqjE",
      "execution_count": null,
      "outputs": []
    },
    {
      "cell_type": "code",
      "source": [
        "def x_time(a): return (((a << 1) ^ 0x1B) & 0xFF) if (a & 0x80) else (a << 1)"
      ],
      "metadata": {
        "id": "BbhJEnLdWy6V"
      },
      "id": "BbhJEnLdWy6V",
      "execution_count": null,
      "outputs": []
    },
    {
      "cell_type": "code",
      "source": [
        "#splits a list\n",
        "def split_function(a: List[bytes], n: int) -> List[List[bytes]]:\n",
        "   \n",
        "    k, m = divmod(len(a), n)\n",
        "    return list(a[i * k + min(i, m):(i + 1) * k + min(i + 1, m)] for i in range(n))"
      ],
      "metadata": {
        "id": "B0kNo07dW-BU"
      },
      "id": "B0kNo07dW-BU",
      "execution_count": null,
      "outputs": []
    },
    {
      "cell_type": "code",
      "source": [
        "#makes the list into blocks\n",
        "def block(l: List[Any], n: int) -> Generator:\n",
        "    \n",
        "    for i in range(0, len(l), n):\n",
        "        yield l[i:i + n]"
      ],
      "metadata": {
        "id": "PBmZmvssXCoK"
      },
      "id": "PBmZmvssXCoK",
      "execution_count": null,
      "outputs": []
    },
    {
      "cell_type": "code",
      "source": [
        "#carries out confusion when expanding keys\n",
        "def con(block: List[int], rc: bytes) -> List[bytes]:\n",
        "\n",
        "    block = [__sub_byte(b, S_box) for b in block[1:] + [block[0]]]\n",
        "    return [block[0] ^ rc] + block[1:]"
      ],
      "metadata": {
        "id": "nJf4YARfXGW5"
      },
      "id": "nJf4YARfXGW5",
      "execution_count": null,
      "outputs": []
    },
    {
      "cell_type": "code",
      "source": [
        "#substitution from s-box\n",
        "def __sub_byte(b: int, box: List[List[bytes]]) -> bytes:\n",
        "   \n",
        "    b = hex(b)[2:]\n",
        "    if len(b) == 1:\n",
        "        b = '0' + b\n",
        "    row, col = list(b)\n",
        "    return box[int(row, 16)][int(col, 16)]"
      ],
      "metadata": {
        "id": "u-_HZ5OuXNNP"
      },
      "id": "u-_HZ5OuXNNP",
      "execution_count": null,
      "outputs": []
    },
    {
      "cell_type": "code",
      "source": [
        "def _sub_bytes(state, box):\n",
        "    new_mat = []\n",
        "    for row in state:\n",
        "        new_row = []\n",
        "        for v in row:\n",
        "            new_row.append(__sub_byte(v, box))\n",
        "        new_mat.append(new_row)\n",
        "    return new_mat"
      ],
      "metadata": {
        "id": "M_fGZoFyXRt8"
      },
      "id": "M_fGZoFyXRt8",
      "execution_count": null,
      "outputs": []
    },
    {
      "cell_type": "code",
      "source": [
        "def shift_rows(s: List[List[bytes]]) -> List[List[bytes]]:\n",
        "  \n",
        "    s[0][1], s[1][1], s[2][1], s[3][1] = s[1][1], s[2][1], s[3][1], s[0][1]\n",
        "    s[0][2], s[1][2], s[2][2], s[3][2] = s[2][2], s[3][2], s[0][2], s[1][2]\n",
        "    s[0][3], s[1][3], s[2][3], s[3][3] = s[3][3], s[0][3], s[1][3], s[2][3]\n",
        "    return s\n",
        "\n",
        "\n"
      ],
      "metadata": {
        "id": "MFb2ZOD6XVM1"
      },
      "id": "MFb2ZOD6XVM1",
      "execution_count": null,
      "outputs": []
    },
    {
      "cell_type": "code",
      "source": [
        "def round(state: List[List[bytes]], round_key: List[Union[List[List[int]], List[list]]]) -> List[List[int]]:\n",
        "  \n",
        "    state = _sub_bytes(state, S_box)\n",
        "    state = shift_rows(state)\n",
        "    state = mix_columns(state)\n",
        "    state = _add_round_key(state, round_key)\n",
        "    return state\n",
        "\n",
        "\n",
        "def mix_column(col: List[bytes]) -> List[bytes]:\n",
        "    \n",
        "    t = col[0] ^ col[1] ^ col[2] ^ col[3]\n",
        "    u = col[0]\n",
        "    col[0] ^= t ^ x_time(col[0] ^ col[1])\n",
        "    col[1] ^= t ^ x_time(col[1] ^ col[2])\n",
        "    col[2] ^= t ^ x_time(col[2] ^ col[3])\n",
        "    col[3] ^= t ^ x_time(col[3] ^ u)\n",
        "    return col\n",
        "\n",
        "\n",
        "def mix_columns(state:  List[List[bytes]]) -> list:\n",
        "   \n",
        "    return [mix_column(column) for column in state]\n",
        "\n",
        "\n",
        "\n",
        "def _add_round_key(state: List[List[bytes]], round_key: List[Union[List[List[int]], List[list]]]) -> list:\n",
        "  \n",
        "    new_state = []\n",
        "    for r1, r2 in zip(state, round_key):\n",
        "        new_col = []\n",
        "        for v1, v2 in zip(r1, r2):\n",
        "            new_col.append(v1 ^ v2)\n",
        "        new_state.append(new_col)\n",
        "    return new_state\n",
        "\n",
        "\n",
        "def _pad_data(data: bytes, n: int = 16) -> bytes:\n",
        "   \n",
        "    pad_len = n - (len(data) % n)\n",
        "    return data + bytes([pad_len] * pad_len)\n",
        "\n",
        "\n",
        "NUM_ROUNDS = {16: 10, 24: 12, 32: 14}\n",
        "NUM_WORDS = {16: 4, 24: 6, 32: 8}\n",
        "\n",
        "\n",
        "\n",
        "class AES:\n",
        "    def __init__(self, key: bytes, mode=CBC):\n",
        "        if len(key) not in NUM_ROUNDS:\n",
        "            raise ValueError(\"Only 128, 192 and 256 bit keys are supported!\")\n",
        "\n",
        "        if mode != CBC and mode != ECB:\n",
        "            raise ValueError(\"Unsupported mode!\")\n",
        "\n",
        "        self.nb = 4\n",
        "        self.nk = NUM_WORDS[len(key)]\n",
        "        self.nr = NUM_ROUNDS[len(key)]\n",
        "        self.mode = mode\n",
        "        self.block_length = 16\n",
        "        self.round_keys = self._expand_key(key)\n",
        "\n",
        "    def _expand_key(self, key: bytes) -> List[Tuple[Any]]:\n",
        "       \n",
        "        w = []\n",
        "        for i in range(self.nk):\n",
        "            w.append([key[4 * i], key[4 * i + 1], key[4 * i + 2], key[4 * i + 3]])\n",
        "\n",
        "        for i in range(self.nk, (self.nb * (self.nr + 1))):\n",
        "            tmp = w[i - 1]\n",
        "            if i % self.nk == 0:\n",
        "                tmp = con(tmp, Rcon[int(i / self.nk) - 1])\n",
        "            elif self.nk > 6 and i % self.nk == self.nb:\n",
        "                tmp = _sub_bytes([tmp], S_box)[0]\n",
        "            w.append([x ^ y for x, y in zip(w[i - self.nk], tmp)])\n",
        "        return list(zip(*[iter(w)] * self.nb))\n",
        "\n",
        "    def encrypt(self, data: bytes, iv=None) -> tuple:\n",
        "        \n",
        "        if self.mode == ECB and iv is not None:\n",
        "            warnings.warn(\"error\")\n",
        "\n",
        "        if self.mode == CBC and iv is None:\n",
        "            iv = os.urandom(self.block_length)\n",
        "\n",
        "        state = _pad_data(data)\n",
        "        blocks = list(block(list(state), self.block_length))\n",
        "\n",
        "        cipher = self._encrypt_CBC(blocks, iv) if self.mode == CBC else self._encrypt_ECB(blocks)\n",
        "\n",
        "        return cipher, iv\n",
        "\n",
        "    def _encrypt_ECB(self, blocks: List[bytes]) -> bytes:\n",
        "        \n",
        "        return b''.join([self._encrypt_single_block(block) for block in blocks])\n",
        "\n",
        "    def _encrypt_CBC(self, blocks: List[bytes], iv: bytes) -> bytes:\n",
        "       \n",
        "        encrypted_blocks = [iv]\n",
        "        for block, prev in zip(blocks, encrypted_blocks):\n",
        "            next_block = bytes([x ^ y for x, y in zip(block, prev)])\n",
        "            encrypted_blocks.append(self._encrypt_single_block(next_block))\n",
        "\n",
        "        return b''.join(encrypted_blocks[1:])\n",
        "\n",
        "    def _encrypt_single_block(self, data: bytes) -> bytes:\n",
        "       \n",
        "        state = split_function(list(data), 4)\n",
        "        state = _add_round_key(state, self.round_keys[0])\n",
        "\n",
        "        for i in range(1, self.nr):\n",
        "            state = round(state, self.round_keys[i])\n",
        "\n",
        "        state = _sub_bytes(state, S_box)\n",
        "        state = shift_rows(state)\n",
        "        state = _add_round_key(state, self.round_keys[-1])\n",
        "\n",
        "        state = bytes(list(chain(*state)))\n",
        "\n",
        "        return state\n",
        "\n",
        "    \n",
        "  "
      ],
      "metadata": {
        "id": "_2dRRQilXaGc"
      },
      "id": "_2dRRQilXaGc",
      "execution_count": null,
      "outputs": []
    },
    {
      "cell_type": "code",
      "source": [
        "def _encrypt_ECB(self, blocks: List[bytes]) -> bytes:\n",
        "        \n",
        "        return b''.join([self._encrypt_single_block(block) for block in blocks])\n",
        "\n",
        "   "
      ],
      "metadata": {
        "id": "edrVU-FFX-7H"
      },
      "id": "edrVU-FFX-7H",
      "execution_count": null,
      "outputs": []
    },
    {
      "cell_type": "code",
      "source": [
        "key = os.urandom(16)\n",
        "aes= AES(key)\n",
        "var=input('Please enter the plaintext').encode('ASCII')\n",
        "cipher_text, iv = aes.encrypt(var)\n",
        "print(\"This is the cipher text after encryption\",cipher_text)"
      ],
      "metadata": {
        "colab": {
          "base_uri": "https://localhost:8080/"
        },
        "id": "I7CGbllrYDGX",
        "outputId": "f4a2a416-f46c-483e-f4cc-9b7cca894a19"
      },
      "id": "I7CGbllrYDGX",
      "execution_count": null,
      "outputs": [
        {
          "output_type": "stream",
          "name": "stdout",
          "text": [
            "Please enter the plaintexthello\n",
            "This is the cipher text after encryption b'2n\\x85\\xcfO\\xc0\\xef\\xf4\\xcdR\\xff]\\x81\\x9d^\\xa8'\n"
          ]
        }
      ]
    },
    {
      "cell_type": "markdown",
      "id": "weird-filename",
      "metadata": {
        "id": "weird-filename"
      },
      "source": [
        "## Modes of operation of block ciphers <a class=\"anchor\" id=\"mode\"></a>\n",
        "\n",
        "A block cipher by itself is only suitable for the secure cryptographic transformation (encryption or decryption) of one fixed-length group of bits called a block. A mode of operation describes how to repeatedly apply a cipher's single-block operation to securely transform amounts of data larger than a block ([Wikipedia](https://en.wikipedia.org/wiki/Block_cipher_mode_of_operation)).\n",
        "\n",
        "The first mode is \"not doing anything\", this is the Electronic Codebook mode. See the figure below (from Wikipedia)."
      ]
    },
    {
      "cell_type": "markdown",
      "id": "capable-command",
      "metadata": {
        "id": "capable-command"
      },
      "source": [
        "<img src=\"img/ECB_mode.png\" style=\"width:1100px\"/>"
      ]
    },
    {
      "cell_type": "markdown",
      "id": "critical-cinema",
      "metadata": {
        "id": "critical-cinema"
      },
      "source": [
        "We are lucky and in ```cryptography``` package ECB implemented in ```cryptography.hazmat.primitives.ciphers.ECB``` function (we've seen in the previous example!)."
      ]
    },
    {
      "cell_type": "markdown",
      "id": "surprised-aspect",
      "metadata": {
        "id": "surprised-aspect"
      },
      "source": [
        "Now we can encrypt the same message twice and see what we get in the ciphertext:"
      ]
    },
    {
      "cell_type": "markdown",
      "id": "bronze-column",
      "metadata": {
        "id": "bronze-column"
      },
      "source": [
        "This is not a desirable outcome. If I want to send the same message twice, I really don't want to send the same ciphertext. What if in all comunications I start by \"Dear...\" and the attacker knows it?. A better mode is the Cipher block chaining (CBC):"
      ]
    },
    {
      "cell_type": "markdown",
      "id": "sonic-ranking",
      "metadata": {
        "id": "sonic-ranking"
      },
      "source": [
        "<img src=\"img/CBC_mode.png\" style=\"width:1100px\"/>"
      ]
    },
    {
      "cell_type": "markdown",
      "id": "meaningful-preview",
      "metadata": {
        "id": "meaningful-preview"
      },
      "source": [
        "In this case we take a random initialization vector and perform XOR operation with the block of plaintext, then we feed this into the encryptor, after that we obtain the ciphertext. This ciphertext is used as the initialization vector to encrypt the next block."
      ]
    },
    {
      "cell_type": "code",
      "source": [
        "def non_encoder(block, key):\n",
        "    \"\"\"A basic encoder that doesn't actually do anything\"\"\"\n",
        "    return enc(block, len(key))"
      ],
      "metadata": {
        "id": "vDGcjplRqkqM"
      },
      "id": "vDGcjplRqkqM",
      "execution_count": null,
      "outputs": []
    },
    {
      "cell_type": "code",
      "source": [
        "def xor_encoder(block, key):\n",
        "    block = enc(block, len(key))\n",
        "    cipher = [b ^ k for b, k in zip(block, key)]\n",
        "    return cipher"
      ],
      "metadata": {
        "id": "4x1EBi_hq6NN"
      },
      "id": "4x1EBi_hq6NN",
      "execution_count": null,
      "outputs": []
    },
    {
      "cell_type": "code",
      "source": [
        "def bits2a(b):\n",
        "     return ''.join(chr(int(''.join(x), 2)) for x in zip(*[iter(b)]*8))"
      ],
      "metadata": {
        "id": "7Fc5AWL4q7lP"
      },
      "id": "7Fc5AWL4q7lP",
      "execution_count": null,
      "outputs": []
    },
    {
      "cell_type": "code",
      "source": [
        "def aes_encoder(block, key):\n",
        "   # block = enc(block, len(key))\n",
        "    block=encrypt(self, data: bytes, iv=None)\n",
        "    # the pycrypto library expects the key and block in 8 bit ascii \n",
        "    # encoded strings so we have to convert from the bit string\n",
        "    block = bits2a(block)\n",
        "    key = bits2a(key)\n",
        "    ecb = AES.new(key, AES.MODE_ECB)\n",
        "    return bits2a(ecb.encrypt(block))"
      ],
      "metadata": {
        "id": "r_kLfVjarEyi"
      },
      "id": "r_kLfVjarEyi",
      "execution_count": null,
      "outputs": []
    },
    {
      "cell_type": "code",
      "source": [
        "def cipher_block_chaining(plaintext, key, init_vec, block_size, block_enc):\n",
        "   cipher = []\n",
        "   cipher.extend(init_vec)\n",
        "   for i in range(len(plaintext) / block_size + 1):\n",
        "        start = i * block_size\n",
        "        if start >= len(plaintext):\n",
        "            break\n",
        "        end = min(len(plaintext), (i+1) * block_size)\n",
        "        block = plaintext[start:end]\n",
        "        pre = cipher[start:end]\n",
        "        m = [int(block[j] != pre[j]) for j in range(len(pre))]\n",
        "        \n",
        "        cipher.extend(block_enc(m, key))\n",
        "        return cipher[block_size:]\n",
        "\n",
        "        message = input(\"Enter your Message for AES Encryption:- \")\n",
        "\n",
        "# Print Encrypted Message \n",
        "print(\"\\nEncryption of Message Using AES:-\", cipher[block_size:].text)\n",
        "print(\"Hex of Cipher Text:-\", cipher_text.hex())\n",
        "\n"
      ],
      "metadata": {
        "id": "lRhdXehsrQzh"
      },
      "id": "lRhdXehsrQzh",
      "execution_count": null,
      "outputs": []
    },
    {
      "cell_type": "code",
      "source": [],
      "metadata": {
        "id": "uZkUNiuzu1d-"
      },
      "id": "uZkUNiuzu1d-",
      "execution_count": null,
      "outputs": []
    },
    {
      "cell_type": "code",
      "source": [
        "\n",
        "import os\n",
        "def electronic_cookbook(plaintext):\n",
        "  block_size=128\n",
        "  key = os.urandom(16)\n",
        "  block_enc=aes(key)\n",
        "    \"\"\"Return the ecb encoding of `plaintext\"\"\"\n",
        "    if(plaintext.length()%16!=0)\n",
        "       enc(key, plaintext)\n",
        "      \n",
        "    cipher = []\n",
        "    # break the plaintext into blocks\n",
        "    # and encode each one\n",
        "    for i in range(len(plaintext) / block_size + 1):\n",
        "        start = i * block_size\n",
        "        if start >= len(plaintext):\n",
        "            break\n",
        "        end = min(len(plaintext), (i+1) * block_size)\n",
        "        block = plaintext[start:end]\n",
        "        cipher.extend(block_enc(block, key))\n",
        "    return cipher"
      ],
      "metadata": {
        "id": "LoG3k7XIrWkn"
      },
      "id": "LoG3k7XIrWkn",
      "execution_count": null,
      "outputs": []
    },
    {
      "cell_type": "markdown",
      "id": "polish-parts",
      "metadata": {
        "id": "polish-parts"
      },
      "source": [
        "## Bonus: Fernet <a class=\"anchor\" id=\"fernet\"></a>\n",
        "\n",
        "Another block cipher implemented in cryptography package is [Fernet](https://asecuritysite.com/encryption/fernet). "
      ]
    },
    {
      "cell_type": "code",
      "execution_count": null,
      "id": "raised-steps",
      "metadata": {
        "id": "raised-steps",
        "colab": {
          "base_uri": "https://localhost:8080/"
        },
        "outputId": "adbce00a-0c81-46f9-cf8a-9bbcb4152b5a"
      },
      "outputs": [
        {
          "output_type": "stream",
          "name": "stdout",
          "text": [
            "Enter your Message :- hello\n",
            "\n",
            "Message:- hello\n",
            "Key:  b'3372307430767676766f5a44636c35662d517657644444746e655a366144416e793636616b714b6c4478733d'\n",
            "Cipher:  b'674141414141426a67533346753059636b70704d673264424d3567694b4e6c384858584f635859507179704c674d635366497a766d7a436a4b6c686556305f305955486a4171314d554f437a74496954434e504e4f4e6d7763723362517a6d7442513d3d'\n",
            "\n",
            "Version:\t b'67'\n",
            "Time stamp:\t b'4141414141426a67'\n",
            "IV:\t\t b'533346753059636b70704d673264424d'\n",
            "HMAC:\t\t b'4171314d554f437a74496954434e504e4f4e6d7763723362517a6d7442513d3d'\n",
            "\n",
            "Plain text:  b'hello'\n",
            "password hello\n"
          ]
        }
      ],
      "source": [
        "from cryptography.fernet import Fernet\n",
        "from cryptography.hazmat.primitives import hashes\n",
        "from cryptography.hazmat.backends import default_backend\n",
        "\n",
        "import sys\n",
        "import binascii\n",
        "import base64\n",
        "\n",
        "def get_key(password):\n",
        "    digest = hashes.Hash(hashes.SHA256(), backend=default_backend())\n",
        "    digest.update(password)\n",
        "    return base64.urlsafe_b64encode(digest.finalize())\n",
        "\n",
        "if (len(sys.argv)>1):\n",
        "\tval=sys.argv[1]\n",
        "\n",
        "if (len(sys.argv)>2):\n",
        "\tpassword=str(sys.argv[2])\n",
        "\n",
        "if (len(password)>1):\n",
        "\tkey = get_key(password.encode())\n",
        "else:\n",
        "\tkey = Fernet.generate_key()\n",
        "\n",
        "val = input(\"Enter your Message :- \")\n",
        "password = val.split(' ')[0]\n",
        "\n",
        "print(\"\\nMessage:-\", val)\n",
        "print(\"Key: \",binascii.hexlify(bytearray(key)))\n",
        "\n",
        "\n",
        "cipher_suite = Fernet(key)\n",
        "cipher_text = cipher_suite.encrypt(val.encode())\n",
        "cipher=binascii.hexlify(bytearray(cipher_text))\n",
        "print(\"Cipher: \",cipher)\n",
        "\n",
        "print(\"\\nVersion:\\t\",cipher[0:2])\n",
        "print(\"Time stamp:\\t\",cipher[2:18])\n",
        "print(\"IV:\\t\\t\",cipher[18:50])\n",
        "print(\"HMAC:\\t\\t\",cipher[-64:])\n",
        "\n",
        "plain_text = cipher_suite.decrypt(cipher_text)\n",
        "print(\"\\nPlain text: \",plain_text)\n",
        "print(\"password\",password)\n"
      ]
    },
    {
      "cell_type": "code",
      "source": [
        "! pip install pycryptodome\n",
        "! pip install cryptography\n",
        "! pip install Crypto\n",
        "from Crypto.Util.Padding import pad\n",
        "from base64 import b64encode\n",
        "from Crypto.Cipher import AES\n",
        "from Crypto.Random import get_random_bytes\n",
        "import cryptography\n",
        "import json\n",
        "import base64"
      ],
      "metadata": {
        "colab": {
          "base_uri": "https://localhost:8080/"
        },
        "id": "fW8WmxIwmen7",
        "outputId": "3b3deeb1-498d-47cb-a25e-9bab76926c75"
      },
      "id": "fW8WmxIwmen7",
      "execution_count": null,
      "outputs": [
        {
          "output_type": "stream",
          "name": "stdout",
          "text": [
            "Looking in indexes: https://pypi.org/simple, https://us-python.pkg.dev/colab-wheels/public/simple/\n",
            "Collecting pycryptodome\n",
            "  Downloading pycryptodome-3.15.0-cp35-abi3-manylinux2010_x86_64.whl (2.3 MB)\n",
            "\u001b[K     |████████████████████████████████| 2.3 MB 5.3 MB/s \n",
            "\u001b[?25hInstalling collected packages: pycryptodome\n",
            "Successfully installed pycryptodome-3.15.0\n",
            "Looking in indexes: https://pypi.org/simple, https://us-python.pkg.dev/colab-wheels/public/simple/\n",
            "Collecting cryptography\n",
            "  Downloading cryptography-38.0.3-cp36-abi3-manylinux_2_24_x86_64.whl (4.1 MB)\n",
            "\u001b[K     |████████████████████████████████| 4.1 MB 5.3 MB/s \n",
            "\u001b[?25hRequirement already satisfied: cffi>=1.12 in /usr/local/lib/python3.7/dist-packages (from cryptography) (1.15.1)\n",
            "Requirement already satisfied: pycparser in /usr/local/lib/python3.7/dist-packages (from cffi>=1.12->cryptography) (2.21)\n",
            "Installing collected packages: cryptography\n",
            "Successfully installed cryptography-38.0.3\n",
            "Looking in indexes: https://pypi.org/simple, https://us-python.pkg.dev/colab-wheels/public/simple/\n",
            "Collecting Crypto\n",
            "  Downloading crypto-1.4.1-py2.py3-none-any.whl (18 kB)\n",
            "Collecting Naked\n",
            "  Downloading Naked-0.1.32-py2.py3-none-any.whl (587 kB)\n",
            "\u001b[K     |████████████████████████████████| 587 kB 5.2 MB/s \n",
            "\u001b[?25hCollecting shellescape\n",
            "  Downloading shellescape-3.8.1-py2.py3-none-any.whl (3.1 kB)\n",
            "Requirement already satisfied: pyyaml in /usr/local/lib/python3.7/dist-packages (from Naked->Crypto) (6.0)\n",
            "Requirement already satisfied: requests in /usr/local/lib/python3.7/dist-packages (from Naked->Crypto) (2.23.0)\n",
            "Requirement already satisfied: chardet<4,>=3.0.2 in /usr/local/lib/python3.7/dist-packages (from requests->Naked->Crypto) (3.0.4)\n",
            "Requirement already satisfied: certifi>=2017.4.17 in /usr/local/lib/python3.7/dist-packages (from requests->Naked->Crypto) (2022.9.24)\n",
            "Requirement already satisfied: urllib3!=1.25.0,!=1.25.1,<1.26,>=1.21.1 in /usr/local/lib/python3.7/dist-packages (from requests->Naked->Crypto) (1.24.3)\n",
            "Requirement already satisfied: idna<3,>=2.5 in /usr/local/lib/python3.7/dist-packages (from requests->Naked->Crypto) (2.10)\n",
            "Installing collected packages: shellescape, Naked, Crypto\n",
            "Successfully installed Crypto-1.4.1 Naked-0.1.32 shellescape-3.8.1\n"
          ]
        }
      ]
    }
  ],
  "metadata": {
    "kernelspec": {
      "display_name": "Python 3 (ipykernel)",
      "language": "python",
      "name": "python3"
    },
    "language_info": {
      "codemirror_mode": {
        "name": "ipython",
        "version": 3
      },
      "file_extension": ".py",
      "mimetype": "text/x-python",
      "name": "python",
      "nbconvert_exporter": "python",
      "pygments_lexer": "ipython3",
      "version": "3.9.13"
    },
    "colab": {
      "provenance": [],
      "include_colab_link": true
    }
  },
  "nbformat": 4,
  "nbformat_minor": 5
}